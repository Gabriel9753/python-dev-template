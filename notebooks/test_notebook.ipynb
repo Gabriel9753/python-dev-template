{
 "cells": [
  {
   "attachments": {},
   "cell_type": "markdown",
   "metadata": {},
   "source": [
    "# Hyperbolic Tangent Function (tanh)\n",
    "\n",
    "The hyperbolic tangent function, often denoted as $\\text{tanh}(x)$, is a significant function in mathematics with remarkable properties and various applications, especially in calculus and real analysis. It's also fundamental in various areas of science and engineering, such as physics, statistics, and machine learning.\n",
    "\n",
    "## Mathematical Definition\n",
    "\n",
    "Mathematically, $\\text{tanh}(x)$ is defined as the ratio of the hyperbolic sine function $\\sinh(x)$ to the hyperbolic cosine function $\\cosh(x)$:\n",
    "\n",
    "$$\n",
    "\\text{tanh}(x) = \\frac{\\sinh(x)}{\\cosh(x)}\n",
    "$$\n",
    "\n",
    "This can also be represented as:\n",
    "\n",
    "$$\n",
    "\\text{tanh}(x) = \\frac{e^x - e^{-x}}{e^x + e^{-x}}\n",
    "$$\n",
    "\n",
    "## Properties\n",
    "\n",
    "Here are some important properties of $\\text{tanh}(x)$:\n",
    "\n",
    "- Range: The function is bounded between -1 and 1. Therefore, for all real values of `x`,\n",
    "$$-1 \\leq \\text{tanh}(x) \\leq 1$$\n",
    "\n",
    "- Derivative: The derivative of $\\text{tanh}(x)$ is $\\text{sech}^2(x)$, where $\\text{sech}(x)$ is the hyperbolic secant function. In terms of $\\text{tanh}(x)$, it can be written as:\n",
    "$$\\frac{d}{dx} \\text{tanh}(x) = 1 - (\\text{tanh}^2(x))$$\n",
    "\n",
    "- Symmetry: $\\text{tanh}(x)$ is an odd function, meaning $\\text{tanh}(-x) = -\\text{tanh}(x)$.\n",
    "\n",
    "- Asymptotes: $\\text{tanh}(x)$ has horizontal asymptotes at y = -1 (as `x` approaches `-∞`) and y = 1 (as `x` approaches `∞`).\n",
    "\n",
    "## Applications\n",
    "\n",
    "In the field of Machine Learning and Neural Networks, $\\text{tanh}(x)$ is often used as an activation function. Its range between -1 and 1 makes it suitable for binary classification problems and it helps to mitigate the vanishing gradient problem to a certain extent when compared to the sigmoid function.\n",
    "\n",
    "In Physics, $\\text{tanh}(x)$ is used to describe properties of hyperbolic spaces and in statistical mechanics.\n",
    "\n",
    "## Conclusion\n",
    "\n",
    "The hyperbolic tangent function, $\\text{tanh}(x)$, is a fascinating mathematical construct with a rich set of properties and wide array of applications. Whether you're diving into the mathematical intricacies or utilizing it in advanced technological applications, the $\\text{tanh}(x)$ function is undeniably special."
   ]
  },
  {
   "cell_type": "code",
   "execution_count": null,
   "metadata": {},
   "outputs": [],
   "source": [
    "import math\n",
    "import random\n",
    "rnd_number = round(random.random(), 2)\n",
    "print(f'tanh({rnd_number}) = {math.tanh(rnd_number):.2f}')"
   ]
  }
 ],
 "metadata": {
  "kernelspec": {
   "display_name": "Python 3 (ipykernel)",
   "language": "python",
   "name": "python3"
  },
  "language_info": {
   "codemirror_mode": {
    "name": "ipython",
    "version": 3
   },
   "file_extension": ".py",
   "mimetype": "text/x-python",
   "name": "python",
   "nbconvert_exporter": "python",
   "pygments_lexer": "ipython3",
   "version": "3.11.4"
  },
  "orig_nbformat": 4,
  "vscode": {
   "interpreter": {
    "hash": "949777d72b0d2535278d3dc13498b2535136f6dfe0678499012e853ee9abcab1"
   }
  }
 },
 "nbformat": 4,
 "nbformat_minor": 2
}
